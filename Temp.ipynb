{
 "cells": [
  {
   "cell_type": "markdown",
   "metadata": {},
   "source": [
    "# Heapsort (מיון ערימה)\n",
    "https://en.wikipedia.org/wiki/Heapsort  \n",
    "https://habr.com/ru/post/112222/"
   ]
  },
  {
   "cell_type": "code",
   "execution_count": 23,
   "metadata": {},
   "outputs": [],
   "source": [
    "# Import libraries:\n",
    "from math import log2, ceil"
   ]
  },
  {
   "cell_type": "markdown",
   "metadata": {},
   "source": [
    "#### Create function to get the tree size and number of parent nodes:"
   ]
  },
  {
   "cell_type": "code",
   "execution_count": 24,
   "metadata": {},
   "outputs": [],
   "source": [
    "def get_parent_nodes(heap):\n",
    "    \n",
    "    # Get the number of elements in the heap:\n",
    "    heap_size = len(heap)\n",
    "    \n",
    "    # Number of heap levels = log2 of number of nodes (rounded up):\n",
    "    tree_size = ceil(log2(heap_size))\n",
    "    \n",
    "    # Number of parent levels = tree size - 1 (last level has no children).\n",
    "    # But in case there is only 2 elements in the tree parent levels = 1\n",
    "    parent_levels = 1 if heap_size == 2 else tree_size - 1\n",
    "    \n",
    "    # Number of parent nodes = geometric series with b = 1 (first node),\n",
    "    # q = 2 (binary tree) and n = parent_levels.\n",
    "    # For our purpose we need to get the list of these nodes in descending order:\n",
    "    parent_nodes = list(range(2**parent_levels - 1))[::-1]\n",
    "    \n",
    "    # Return results:\n",
    "    return parent_nodes"
   ]
  },
  {
   "cell_type": "markdown",
   "metadata": {},
   "source": [
    "#### Create Heapify procedure:"
   ]
  },
  {
   "cell_type": "code",
   "execution_count": 25,
   "metadata": {},
   "outputs": [],
   "source": [
    "def heapify(heap, i):\n",
    "    '''\n",
    "    Rearranges  nodes in the heap starting from the node\n",
    "    with the index i and then moves down the heap.\n",
    "    Is uses global variable \"heap\" - list of numbers representing the heap\n",
    "    '''\n",
    "    \n",
    "    # Get the heap size:\n",
    "    heap_size = len(heap)\n",
    "    \n",
    "    # Find children indexes:\n",
    "    ind_l = 2*i + 1 if 2*i + 1 < heap_size else False\n",
    "    ind_r = 2*i + 2 if 2*i + 2 < heap_size else False\n",
    "    \n",
    "    # Extract node values:\n",
    "    main  = heap[i]\n",
    "    left  = heap[ind_l] if ind_l else -float('inf')\n",
    "    right = heap[ind_r] if ind_r else -float('inf')\n",
    "    \n",
    "    # Check if the left child has the highest value:\n",
    "    if left >=  right and left  > main:\n",
    "        \n",
    "        # Swap values:\n",
    "        heap[i], heap[ind_l] = left, main\n",
    "        \n",
    "        # Run recursive function on updated child node:\n",
    "        heap = heapify(heap, ind_l)\n",
    "    \n",
    "    # If left child is not the greatest one, check the right one:\n",
    "    elif right > left and right > main:\n",
    "        \n",
    "        # Swap values:\n",
    "        heap[i], heap[ind_r] = right, main\n",
    "        \n",
    "        # Run recursive function on updated child node:\n",
    "        heap = heapify(heap, ind_r)\n",
    "    \n",
    "    # Return reordered heap:\n",
    "    return heap"
   ]
  },
  {
   "cell_type": "markdown",
   "metadata": {},
   "source": [
    "#### Create Heapsort procedure:"
   ]
  },
  {
   "cell_type": "code",
   "execution_count": 26,
   "metadata": {},
   "outputs": [],
   "source": [
    "def heapsort(heap):\n",
    "    '''\n",
    "    Builds binary tree out of the passed array, then a sorted array is created\n",
    "    by repeatedly removing the largest element from the root of the heap.\n",
    "    The heap is updated after each removal to maintain the heap property.\n",
    "    Once all objects have been removed from the heap, the result is a sorted array.\n",
    "    '''\n",
    "    \n",
    "    # Create list to store result:\n",
    "    result = []\n",
    "\n",
    "    # Iterate untill one element remains in the heap:\n",
    "    while len(heap) > 1:\n",
    "        \n",
    "        # Get the heap scale parameters:\n",
    "        parent_nodes = get_parent_nodes(heap)\n",
    "        \n",
    "        # Reorder the heap:\n",
    "        for node in parent_nodes:\n",
    "            heap = heapify(heap, node)\n",
    "        \n",
    "        # Print debug:\n",
    "        print('Heap size: {}, heap elements: {}'.format(len(heap), heap))\n",
    "        \n",
    "        # Extract the largers element (heap root):\n",
    "        result.append(heap[0])\n",
    "        \n",
    "        # Update the heap by replacing its root with the last element:\n",
    "        heap[0] = heap[-1]\n",
    "        \n",
    "        # Remove the last element:\n",
    "        heap = heap[:-1]\n",
    "    \n",
    "    # Append the last element of the heap to the result array:\n",
    "    result += heap\n",
    "    \n",
    "    # Return the result:\n",
    "    print('Last element: {}'.format(heap))\n",
    "    return result"
   ]
  },
  {
   "cell_type": "markdown",
   "metadata": {},
   "source": [
    "#### TEST"
   ]
  },
  {
   "cell_type": "code",
   "execution_count": 27,
   "metadata": {},
   "outputs": [
    {
     "name": "stdout",
     "output_type": "stream",
     "text": [
      "Heap size: 14, heap elements: [21, 15, 13, 9, 11, 10, 9, 8, 7, 6, 1, 4, 3, 4]\n",
      "Heap size: 13, heap elements: [15, 11, 13, 9, 6, 10, 9, 8, 7, 4, 1, 4, 3]\n",
      "Heap size: 12, heap elements: [13, 11, 10, 9, 6, 4, 9, 8, 7, 4, 1, 3]\n",
      "Heap size: 11, heap elements: [11, 9, 10, 8, 6, 4, 9, 3, 7, 4, 1]\n",
      "Heap size: 10, heap elements: [10, 9, 9, 8, 6, 4, 1, 3, 7, 4]\n",
      "Heap size: 9, heap elements: [9, 8, 9, 7, 6, 4, 1, 3, 4]\n",
      "Heap size: 8, heap elements: [9, 8, 4, 7, 6, 4, 1, 3]\n",
      "Heap size: 7, heap elements: [8, 7, 4, 3, 6, 4, 1]\n",
      "Heap size: 6, heap elements: [7, 6, 4, 3, 1, 4]\n",
      "Heap size: 5, heap elements: [6, 4, 4, 3, 1]\n",
      "Heap size: 4, heap elements: [4, 3, 4, 1]\n",
      "Heap size: 3, heap elements: [4, 3, 1]\n",
      "Heap size: 2, heap elements: [3, 1]\n",
      "Last element: [1]\n"
     ]
    }
   ],
   "source": [
    "heap_sort = heapsort([9,7,3,15,1,10,4,8,21,6,11,4,13,9])"
   ]
  },
  {
   "cell_type": "code",
   "execution_count": 28,
   "metadata": {},
   "outputs": [
    {
     "data": {
      "text/plain": [
       "[21, 15, 13, 11, 10, 9, 9, 8, 7, 6, 4, 4, 3, 1]"
      ]
     },
     "execution_count": 28,
     "metadata": {},
     "output_type": "execute_result"
    }
   ],
   "source": [
    "heap_sort"
   ]
  },
  {
   "cell_type": "code",
   "execution_count": 29,
   "metadata": {},
   "outputs": [
    {
     "name": "stdout",
     "output_type": "stream",
     "text": [
      "{1: 10, 2: 20}\n",
      "{3: 30, 4: 40}\n",
      "{5: 50, 6: 60}\n"
     ]
    }
   ],
   "source": [
    "dic1={1:10, 2:20}\n",
    "dic2={3:30, 4:40}\n",
    "dic3={5:50,6:60}\n",
    "dic4 = {}\n",
    "for d in (dic1, dic2, dic3): print(d)\n"
   ]
  }
 ],
 "metadata": {
  "kernelspec": {
   "display_name": "Python 3",
   "language": "python",
   "name": "python3"
  },
  "language_info": {
   "codemirror_mode": {
    "name": "ipython",
    "version": 3
   },
   "file_extension": ".py",
   "mimetype": "text/x-python",
   "name": "python",
   "nbconvert_exporter": "python",
   "pygments_lexer": "ipython3",
   "version": "3.7.2"
  }
 },
 "nbformat": 4,
 "nbformat_minor": 2
}
